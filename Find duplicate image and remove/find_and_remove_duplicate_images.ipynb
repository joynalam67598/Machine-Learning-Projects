{
  "nbformat": 4,
  "nbformat_minor": 0,
  "metadata": {
    "colab": {
      "name": "find_and_remove_duplicate_images.ipynb",
      "provenance": [],
      "collapsed_sections": []
    },
    "kernelspec": {
      "name": "python3",
      "display_name": "Python 3"
    },
    "language_info": {
      "name": "python"
    }
  },
  "cells": [
    {
      "cell_type": "code",
      "metadata": {
        "id": "l1xdC-fKGZb3"
      },
      "source": [
        "import hashlib\n",
        "import matplotlib.pyplot as plt\n",
        "# import scipy.misc import imread,imresize, imshow\n",
        "# import matplotlib.gridspec as gridspec\n",
        "import cv2 as cv\n",
        "%matplotlib inline\n",
        "import time\n",
        "import numpy as np\n"
      ],
      "execution_count": 46,
      "outputs": []
    },
    {
      "cell_type": "code",
      "metadata": {
        "id": "ME3DUuucJYeA"
      },
      "source": [
        "from hashlib import md5"
      ],
      "execution_count": 47,
      "outputs": []
    },
    {
      "cell_type": "code",
      "metadata": {
        "id": "wK3H6NfMJrPW"
      },
      "source": [
        "def hash_file(filepath):\n",
        "  with open(filepath,'rb') as f:\n",
        "    return md5(f.read()).hexdigest()"
      ],
      "execution_count": 48,
      "outputs": []
    },
    {
      "cell_type": "code",
      "metadata": {
        "id": "2H52-v1UJtLV"
      },
      "source": [
        "import os"
      ],
      "execution_count": 49,
      "outputs": []
    },
    {
      "cell_type": "code",
      "metadata": {
        "id": "A2z471FEKJHb"
      },
      "source": [
        "os.getcwd();"
      ],
      "execution_count": 50,
      "outputs": []
    },
    {
      "cell_type": "code",
      "metadata": {
        "colab": {
          "base_uri": "https://localhost:8080/",
          "height": 35
        },
        "id": "eLhabcOpLS4_",
        "outputId": "be063b89-e294-4905-835c-7091072c0919"
      },
      "source": [
        "os.chdir(r'../tgimg')\n",
        "os.getcwd()"
      ],
      "execution_count": 51,
      "outputs": [
        {
          "output_type": "execute_result",
          "data": {
            "application/vnd.google.colaboratory.intrinsic+json": {
              "type": "string"
            },
            "text/plain": [
              "'/content/tgimg'"
            ]
          },
          "metadata": {},
          "execution_count": 51
        }
      ]
    },
    {
      "cell_type": "code",
      "metadata": {
        "id": "Ig7DMjiHQ5F2"
      },
      "source": [
        "from google.colab import drive\n",
        "drive.mount('/content/drive')"
      ],
      "execution_count": null,
      "outputs": []
    },
    {
      "cell_type": "code",
      "metadata": {
        "colab": {
          "base_uri": "https://localhost:8080/"
        },
        "id": "3iO3FxoUMYrf",
        "outputId": "c8e2a9db-5f4d-4869-a340-97714dfbfe69"
      },
      "source": [
        "files_list = os.listdir();\n",
        "print(len(files_list));"
      ],
      "execution_count": 52,
      "outputs": [
        {
          "output_type": "stream",
          "name": "stdout",
          "text": [
            "11\n"
          ]
        }
      ]
    },
    {
      "cell_type": "code",
      "metadata": {
        "id": "3IVOl_ZcMu0I"
      },
      "source": [
        "import hashlib , os \n",
        "duplicates= []\n",
        "hash_keys = dict()\n",
        "for index, filename in enumerate(os.listdir('.')):\n",
        "  if(os.path.isfile(filename)):\n",
        "    with open(filename,'rb') as f:\n",
        "      filehash = hashlib.md5(f.read()).hexdigest()\n",
        "    if filehash not in hash_keys:\n",
        "      hash_keys[filehash] = index\n",
        "    else:\n",
        "      duplicates.append((index,hash_keys[filehash]))\n",
        "\n"
      ],
      "execution_count": 53,
      "outputs": []
    },
    {
      "cell_type": "code",
      "metadata": {
        "colab": {
          "base_uri": "https://localhost:8080/"
        },
        "id": "kKeoYr_ZMu-L",
        "outputId": "4e593e03-dbd3-4869-ba7a-ef2d132b5430"
      },
      "source": [
        "duplicates"
      ],
      "execution_count": 54,
      "outputs": [
        {
          "output_type": "execute_result",
          "data": {
            "text/plain": [
              "[]"
            ]
          },
          "metadata": {},
          "execution_count": 54
        }
      ]
    },
    {
      "cell_type": "code",
      "metadata": {
        "id": "3FvhiA4oOStD"
      },
      "source": [
        "for file_indexes in duplicates[:30]:\n",
        "  try:\n",
        "    plt.subplot(121),plt.imshow(imread(files_list[file_indexes[1]]))\n",
        "    plt.title(file_indexes[1]),plt.xticks([]), plt.yticks([])\n",
        "\n",
        "    plt.subplot(122),plt.imshow(imread(files_list[file_indexes[0]]))\n",
        "    plt.title(str(file_indexes[0])+' duplicates'),plt.xticks([]),plt.yticks([])\n",
        "    plt.show()\n",
        "  except OSError as e:\n",
        "    continue\n"
      ],
      "execution_count": 55,
      "outputs": []
    },
    {
      "cell_type": "code",
      "metadata": {
        "id": "b6YXU9abQQq4"
      },
      "source": [
        "for index in duplicates:\n",
        "  os.remove(files_list[index[0]]);"
      ],
      "execution_count": 56,
      "outputs": []
    },
    {
      "cell_type": "code",
      "metadata": {
        "id": "oVmG7X6WQcrT"
      },
      "source": [
        ""
      ],
      "execution_count": 56,
      "outputs": []
    }
  ]
}